{
 "cells": [
  {
   "cell_type": "code",
   "execution_count": 25,
   "metadata": {},
   "outputs": [],
   "source": [
    "%matplotlib inline\n",
    "\n",
    "from tweepy import OAuthHandler\n",
    "from tweepy import Stream\n",
    "from tweepy.streaming import StreamListener\n",
    "import time"
   ]
  },
  {
   "cell_type": "code",
   "execution_count": 26,
   "metadata": {},
   "outputs": [],
   "source": [
    "# setup security \n",
    "access_token = '##'\n",
    "access_token_secret = ''##'\'\n",
    "consumer_key = ''##'\'\n",
    "consumer_secret = ''##'\'\n",
    "\n",
    "# setup file store\n",
    "file = '/tweets-sample.json'"
   ]
  },
  {
   "cell_type": "code",
   "execution_count": 27,
   "metadata": {
    "collapsed": true
   },
   "outputs": [],
   "source": [
    "class MyListener(StreamListener):\n",
    "        \n",
    "    \n",
    "    def __init__(self, file):\n",
    "        global the_file\n",
    "        self.the_file = open(file, 'w')\n",
    "        \n",
    "    def on_data(self, data):\n",
    "        self.the_file.write(data)\n",
    "        return True\n",
    "    \n",
    "    def on_error(self, status):\n",
    "        print(status)\n",
    "        \n",
    "    def file_close(self):\n",
    "        self.the_file.close()        "
   ]
  },
  {
   "cell_type": "code",
   "execution_count": 28,
   "metadata": {},
   "outputs": [
    {
     "name": "stdout",
     "output_type": "stream",
     "text": [
      "**Finish**\n"
     ]
    }
   ],
   "source": [
    "listener = MyListener(file)\n",
    "oauth = OAuthHandler(consumer_key, consumer_secret)\n",
    "oauth.set_access_token(access_token, access_token_secret)\n",
    "\n",
    "max_time = 30 # in seconds\n",
    "start_time = time.time() \n",
    "\n",
    "## collecting...\n",
    "stream = Stream(oauth, listener)\n",
    "#stream.filter(track=['copa', 'neymar', 'messi'],async=True,languages=['pt'])\n",
    "stream.filter(track=['neymar', 'ronaldo', 'messi', 'sallah', 'hazard'],async=True)\n",
    "\n",
    "elapsed_time = (time.time() - start_time)\n",
    "while  elapsed_time < max_time:\n",
    "    elapsed_time = (time.time() - start_time)\n",
    "\n",
    "    \n",
    "print('**Finish**')\n",
    "stream.disconnect()\n",
    "listener.file_close()"
   ]
  },
  {
   "cell_type": "code",
   "execution_count": 29,
   "metadata": {},
   "outputs": [],
   "source": [
    "import json\n",
    "import pandas as pd\n",
    "import matplotlib.pyplot as plt"
   ]
  },
  {
   "cell_type": "code",
   "execution_count": 30,
   "metadata": {
    "collapsed": true
   },
   "outputs": [],
   "source": [
    "tweets_data = []\n",
    "tweets_file = open(file, \"r\")\n",
    "for line in tweets_file:\n",
    "    try:\n",
    "        tweet = json.loads(line)\n",
    "        tweets_data.append(tweet)\n",
    "    except:\n",
    "        continue"
   ]
  },
  {
   "cell_type": "code",
   "execution_count": 31,
   "metadata": {},
   "outputs": [
    {
     "name": "stdout",
     "output_type": "stream",
     "text": [
      "  lang                                               text country\n",
      "0   pt  RT @tvfoco: Nova “briga” no Fofocalizando do S...    None\n",
      "1   pt  RT @paixaofla9: Guerrero: A\\n\\nEu: LINDÍSSIMO,...    None\n",
      "2   pt  Gostei de um vídeo @YouTube https://t.co/fswHI...    None\n",
      "3   pt  Farfan é péssimo . E ainda tem gente que queri...    None\n",
      "4   es                                advincula @flamengo    None\n",
      "5   pt  RT @paixaofla9: Guerrero: A\\n\\nEu: LINDÍSSIMO,...    None\n",
      "6   pt  RT @gabrielaccesar: pela Lidia até o hino do c...    None\n",
      "7   es  RT @LibertoPalauSer: @JesusCintora Despues se ...    None\n",
      "8   pt  @flamengo contratou o lateral da seleção errad...    None\n",
      "9   es  #RealMadrid firma al delantero #Rodrygo proven...    None\n"
     ]
    }
   ],
   "source": [
    "tweets = pd.DataFrame()\n",
    "\n",
    "tweets['lang'] = ''\n",
    "tweets['text'] = ''\n",
    "tweets['country'] = ''\n",
    "for tweet in tweets_data:\n",
    "    if 'lang' in tweet:\n",
    "        tweets.loc[len(tweets)] = [tweet['lang'],\n",
    "                               tweet['text'],\n",
    "                               tweet['place']['country'] if tweet['place'] != None else None]\n",
    "    \n",
    "print(tweets.head(10))"
   ]
  },
  {
   "cell_type": "code",
   "execution_count": 32,
   "metadata": {},
   "outputs": [
    {
     "data": {
      "text/plain": [
       "<matplotlib.axes._subplots.AxesSubplot at 0x9efc6d8>"
      ]
     },
     "execution_count": 32,
     "metadata": {},
     "output_type": "execute_result"
    },
    {
     "data": {
      "image/png": "iVBORw0KGgoAAAANSUhEUgAAAYcAAAEwCAYAAABc0b2zAAAABHNCSVQICAgIfAhkiAAAAAlwSFlz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\nLMvpfcEAAAAASUVORK5CYII=\n",
      "text/plain": [
       "<matplotlib.figure.Figure at 0x9f03550>"
      ]
     },
     "metadata": {},
     "output_type": "display_data"
    }
   ],
   "source": [
    "tweets_by_lang = tweets['lang'].value_counts()\n",
    "\n",
    "fig, ax = plt.subplots()\n",
    "ax.tick_params(axis='x', labelsize=15)\n",
    "ax.tick_params(axis='y', labelsize=10)\n",
    "ax.set_xlabel('Languages', fontsize=15)\n",
    "ax.set_ylabel('Number of tweets' , fontsize=15)\n",
    "ax.set_title('Top 5 languages', fontsize=15, fontweight='bold')\n",
    "tweets_by_lang[:5].plot(ax=ax, kind='bar', color='red')"
   ]
  },
  {
   "cell_type": "code",
   "execution_count": 33,
   "metadata": {},
   "outputs": [
    {
     "data": {
      "text/plain": [
       "<matplotlib.axes._subplots.AxesSubplot at 0x9f39da0>"
      ]
     },
     "execution_count": 33,
     "metadata": {},
     "output_type": "execute_result"
    },
    {
     "data": {
      "image/png": "iVBORw0KGgoAAAANSUhEUgAAAZEAAAE+CAYAAABMay1sAAAABHNCSVQICAgIfAhkiAAAAAlwSFlz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\nRK5CYII=\n",
      "text/plain": [
       "<matplotlib.figure.Figure at 0x9f25ba8>"
      ]
     },
     "metadata": {},
     "output_type": "display_data"
    }
   ],
   "source": [
    "tweets_by_country = tweets['country'].value_counts()\n",
    "\n",
    "fig, ax = plt.subplots()\n",
    "ax.tick_params(axis='x', labelsize=15)\n",
    "ax.tick_params(axis='y', labelsize=10)\n",
    "ax.set_xlabel('Countries', fontsize=15)\n",
    "ax.set_ylabel('Number of tweets' , fontsize=15)\n",
    "ax.set_title('Top 5 countries', fontsize=15, fontweight='bold')\n",
    "tweets_by_country[:5].plot(ax=ax, kind='bar', color='blue')"
   ]
  },
  {
   "cell_type": "code",
   "execution_count": 34,
   "metadata": {
    "collapsed": true
   },
   "outputs": [],
   "source": [
    "import re\n",
    "def word_in_text(word, text):\n",
    "    word = word.lower()\n",
    "    text = text.lower()\n",
    "    match = re.search(word, text)\n",
    "    if match:\n",
    "        return True\n",
    "    return False"
   ]
  },
  {
   "cell_type": "code",
   "execution_count": 35,
   "metadata": {},
   "outputs": [
    {
     "data": {
      "text/html": [
       "<div>\n",
       "<style>\n",
       "    .dataframe thead tr:only-child th {\n",
       "        text-align: right;\n",
       "    }\n",
       "\n",
       "    .dataframe thead th {\n",
       "        text-align: left;\n",
       "    }\n",
       "\n",
       "    .dataframe tbody tr th {\n",
       "        vertical-align: top;\n",
       "    }\n",
       "</style>\n",
       "<table border=\"1\" class=\"dataframe\">\n",
       "  <thead>\n",
       "    <tr style=\"text-align: right;\">\n",
       "      <th></th>\n",
       "      <th>lang</th>\n",
       "      <th>text</th>\n",
       "      <th>country</th>\n",
       "      <th>player</th>\n",
       "    </tr>\n",
       "  </thead>\n",
       "  <tbody>\n",
       "    <tr>\n",
       "      <th>0</th>\n",
       "      <td>pt</td>\n",
       "      <td>RT @tvfoco: Nova “briga” no Fofocalizando do S...</td>\n",
       "      <td>None</td>\n",
       "      <td>None</td>\n",
       "    </tr>\n",
       "    <tr>\n",
       "      <th>1</th>\n",
       "      <td>pt</td>\n",
       "      <td>RT @paixaofla9: Guerrero: A\\n\\nEu: LINDÍSSIMO,...</td>\n",
       "      <td>None</td>\n",
       "      <td>None</td>\n",
       "    </tr>\n",
       "    <tr>\n",
       "      <th>2</th>\n",
       "      <td>pt</td>\n",
       "      <td>Gostei de um vídeo @YouTube https://t.co/fswHI...</td>\n",
       "      <td>None</td>\n",
       "      <td>None</td>\n",
       "    </tr>\n",
       "    <tr>\n",
       "      <th>3</th>\n",
       "      <td>pt</td>\n",
       "      <td>Farfan é péssimo . E ainda tem gente que queri...</td>\n",
       "      <td>None</td>\n",
       "      <td>None</td>\n",
       "    </tr>\n",
       "    <tr>\n",
       "      <th>4</th>\n",
       "      <td>es</td>\n",
       "      <td>advincula @flamengo</td>\n",
       "      <td>None</td>\n",
       "      <td>None</td>\n",
       "    </tr>\n",
       "    <tr>\n",
       "      <th>5</th>\n",
       "      <td>pt</td>\n",
       "      <td>RT @paixaofla9: Guerrero: A\\n\\nEu: LINDÍSSIMO,...</td>\n",
       "      <td>None</td>\n",
       "      <td>None</td>\n",
       "    </tr>\n",
       "    <tr>\n",
       "      <th>6</th>\n",
       "      <td>pt</td>\n",
       "      <td>RT @gabrielaccesar: pela Lidia até o hino do c...</td>\n",
       "      <td>None</td>\n",
       "      <td>None</td>\n",
       "    </tr>\n",
       "    <tr>\n",
       "      <th>7</th>\n",
       "      <td>es</td>\n",
       "      <td>RT @LibertoPalauSer: @JesusCintora Despues se ...</td>\n",
       "      <td>None</td>\n",
       "      <td>None</td>\n",
       "    </tr>\n",
       "    <tr>\n",
       "      <th>8</th>\n",
       "      <td>pt</td>\n",
       "      <td>@flamengo contratou o lateral da seleção errad...</td>\n",
       "      <td>None</td>\n",
       "      <td>None</td>\n",
       "    </tr>\n",
       "    <tr>\n",
       "      <th>9</th>\n",
       "      <td>es</td>\n",
       "      <td>#RealMadrid firma al delantero #Rodrygo proven...</td>\n",
       "      <td>None</td>\n",
       "      <td>None</td>\n",
       "    </tr>\n",
       "    <tr>\n",
       "      <th>10</th>\n",
       "      <td>pt</td>\n",
       "      <td>RT @favelafalando1: Guerrero: A\\n\\nEu: LINDÍSS...</td>\n",
       "      <td>None</td>\n",
       "      <td>None</td>\n",
       "    </tr>\n",
       "    <tr>\n",
       "      <th>11</th>\n",
       "      <td>pt</td>\n",
       "      <td>RT @crfturan: Tomou 4 na Mercosul de 99, ganho...</td>\n",
       "      <td>None</td>\n",
       "      <td>None</td>\n",
       "    </tr>\n",
       "    <tr>\n",
       "      <th>12</th>\n",
       "      <td>pt</td>\n",
       "      <td>esse lateral direito ai do Peru, como faz pra ...</td>\n",
       "      <td>Brasil</td>\n",
       "      <td>None</td>\n",
       "    </tr>\n",
       "    <tr>\n",
       "      <th>13</th>\n",
       "      <td>pt</td>\n",
       "      <td>Bolsa Família | Programa Silvio Santos (10/06/...</td>\n",
       "      <td>None</td>\n",
       "      <td>None</td>\n",
       "    </tr>\n",
       "    <tr>\n",
       "      <th>14</th>\n",
       "      <td>pt</td>\n",
       "      <td>RT @pandlrcom: Provando mais a vez serem despr...</td>\n",
       "      <td>None</td>\n",
       "      <td>None</td>\n",
       "    </tr>\n",
       "    <tr>\n",
       "      <th>15</th>\n",
       "      <td>pt</td>\n",
       "      <td>RT @valerialencarr: Não consigo torcer p Peru,...</td>\n",
       "      <td>None</td>\n",
       "      <td>None</td>\n",
       "    </tr>\n",
       "    <tr>\n",
       "      <th>16</th>\n",
       "      <td>pt</td>\n",
       "      <td>Olha esse later mané, alou @Flamengo</td>\n",
       "      <td>None</td>\n",
       "      <td>None</td>\n",
       "    </tr>\n",
       "    <tr>\n",
       "      <th>17</th>\n",
       "      <td>es</td>\n",
       "      <td>nojentos https://t.co/Jofh8wNrZt</td>\n",
       "      <td>None</td>\n",
       "      <td>None</td>\n",
       "    </tr>\n",
       "    <tr>\n",
       "      <th>18</th>\n",
       "      <td>es</td>\n",
       "      <td>Ramírez y Duque exigían debates a Santos en 20...</td>\n",
       "      <td>None</td>\n",
       "      <td>None</td>\n",
       "    </tr>\n",
       "    <tr>\n",
       "      <th>19</th>\n",
       "      <td>pt</td>\n",
       "      <td>RT @magalzaoshow: KKKKKKKKKK GUERRERO NO BANCO...</td>\n",
       "      <td>None</td>\n",
       "      <td>None</td>\n",
       "    </tr>\n",
       "  </tbody>\n",
       "</table>\n",
       "</div>"
      ],
      "text/plain": [
       "   lang                                               text country player\n",
       "0    pt  RT @tvfoco: Nova “briga” no Fofocalizando do S...    None   None\n",
       "1    pt  RT @paixaofla9: Guerrero: A\\n\\nEu: LINDÍSSIMO,...    None   None\n",
       "2    pt  Gostei de um vídeo @YouTube https://t.co/fswHI...    None   None\n",
       "3    pt  Farfan é péssimo . E ainda tem gente que queri...    None   None\n",
       "4    es                                advincula @flamengo    None   None\n",
       "5    pt  RT @paixaofla9: Guerrero: A\\n\\nEu: LINDÍSSIMO,...    None   None\n",
       "6    pt  RT @gabrielaccesar: pela Lidia até o hino do c...    None   None\n",
       "7    es  RT @LibertoPalauSer: @JesusCintora Despues se ...    None   None\n",
       "8    pt  @flamengo contratou o lateral da seleção errad...    None   None\n",
       "9    es  #RealMadrid firma al delantero #Rodrygo proven...    None   None\n",
       "10   pt  RT @favelafalando1: Guerrero: A\\n\\nEu: LINDÍSS...    None   None\n",
       "11   pt  RT @crfturan: Tomou 4 na Mercosul de 99, ganho...    None   None\n",
       "12   pt  esse lateral direito ai do Peru, como faz pra ...  Brasil   None\n",
       "13   pt  Bolsa Família | Programa Silvio Santos (10/06/...    None   None\n",
       "14   pt  RT @pandlrcom: Provando mais a vez serem despr...    None   None\n",
       "15   pt  RT @valerialencarr: Não consigo torcer p Peru,...    None   None\n",
       "16   pt               Olha esse later mané, alou @Flamengo    None   None\n",
       "17   es                   nojentos https://t.co/Jofh8wNrZt    None   None\n",
       "18   es  Ramírez y Duque exigían debates a Santos en 20...    None   None\n",
       "19   pt  RT @magalzaoshow: KKKKKKKKKK GUERRERO NO BANCO...    None   None"
      ]
     },
     "execution_count": 35,
     "metadata": {},
     "output_type": "execute_result"
    }
   ],
   "source": [
    "## filtrando aqueles q mais foram falados (termos mais influentes)\n",
    "players = []\n",
    "for tweet in tweets_data:\n",
    "    if 'text' in tweet:\n",
    "        if word_in_text('neymar', tweet['text']):\n",
    "            players.append('neymar')\n",
    "        elif word_in_text('messi', tweet['text']):\n",
    "            players.append('messi')\n",
    "        elif word_in_text('ronaldo', tweet['text']):\n",
    "            players.append('ronaldo')\n",
    "        elif word_in_text('sallah', tweet['text']):\n",
    "            players.append('sallah')\n",
    "        elif word_in_text('hazard', tweet['text']):\n",
    "            players.append('hazard')\n",
    "        else:\n",
    "            players.append('None')\n",
    "tweets['player'] = players\n",
    "tweets.head(20)"
   ]
  },
  {
   "cell_type": "code",
   "execution_count": 36,
   "metadata": {},
   "outputs": [
    {
     "data": {
      "text/plain": [
       "<matplotlib.axes._subplots.AxesSubplot at 0x69bedd8>"
      ]
     },
     "execution_count": 36,
     "metadata": {},
     "output_type": "execute_result"
    },
    {
     "data": {
      "image/png": "iVBORw0KGgoAAAANSUhEUgAAAY0AAAE/CAYAAAC6pZ+vAAAABHNCSVQICAgIfAhkiAAAAAlwSFlz\nAAALEgAACxIB0t1+/AAAADl0RVh0U29mdHdhcmUAbWF0cGxvdGxpYiB2ZXJzaW9uIDIuMS4wLCBo\ndHRwOi8vbWF0cGxvdGxpYi5vcmcvpW3flQAAIABJREFUeJzt3WmYXFXZ7vH/DTEMGiCQgGEIIRJB\n8MirhElAkDAJ+DIIigclChhwBBFFwGPI64SiICgKERAcABlyFBURCCAgAkmUeZAwhUCAMAdJGJ/z\nYa0+qVSqOivdVV3VXffvuuqqvdfeu/bTTain17SXIgIzM7MSy7Q6ADMz6z+cNMzMrJiThpmZFXPS\nMDOzYk4aZmZWzEnDzMyKOWlYW5D0sKQoeG3fx3Hd1E0suzbwPhfkz1zQqM80awYnDTMzK+akYW0h\nIkZFhCJCwAcrDp3bVZ5f17YoxGOq4lBEXN6iWFpC0gqtjsFaz0nD+iVJoyX9StIcSa9KekzSWZLW\nqjhnw4qmpOMkfTuf/7Kk30tas8kxHlZx/w9LOl/SPElPSzpZ0uAlXL+dpL9IelTS/Py6Q9JXJS2b\nzzmk4h5jK65dVdJrufyEivI9JF0r6QVJCyTdJmlC1X1PqPjM7SRNlTQfmJiPH57jeFHSfyTNzM1r\nGzT0F2jtKSL88qutXsD2QOTXOTWOvwN4puKcytfjwJr5vA0ryp+uce6twDJLiOWmfO6zwCvAi8DV\nwM4FP8dhS7j/qRXnXpDLFlSUHVHnZwxgUj5nReD5XPazims/VXHuxrnsc9183g8rrj2hovzZiu0T\ngPHdfMYerf6341fzX65pWH/0HWDVvD0BWBk4Ku+PAL5Z45q3ANvm6y7OZZsAHym851BgMDCE1Hx2\nuaR9liLm2cAoYH3gvlx2qKS1u7nmGmAbYHiOfwRwVT72WYCIeBk4N5d9XNLyebvr5/pnRNwlaRXg\nB7nsAmCN/LP8NJd9WdLoGjE8BmwMrASckeMBuBdYHXhrPn5E/hltgHPSsP5ol/x+b0T8IiJeBE4C\n5uTynWtcc2FE3BARz5GbWbKtl3Cv80hJYiiwGvDdXK6K7RInRsQjEfEAcGouGwyM7eaa2cAngenA\ny6Sfb8d8bHhOBACn5/dVgL0lDQF2ymW/zu8fIH3BA+wPPAnMA76Qy5YBtqsRw7ERcXdEzIuIh4BH\ncvm6pN/jAeTkExG3dvOz2AAxqNUBmC2N3Jbf9WX5aFd5RISkx0h/jQ+vcemjFduPVWyvVX1ipYg4\ntaroOEkHkL40N5A0JCLmFYTek/ufz8Iv/1qWzzHeI+laUrPeQaSmouWA10lJD2r/TqqtWqPsjqr9\nU0iJdhfg8xXlj0r6cETcVnAf68dc07B+JSLeILXhA/z/ph1JAro6tp+ucWllM1DlF/Vj1SdWfGbJ\n/x+lawss1f0lrczChHEZMDzSyLLT6nz+z/P7OOBLefuKiHgqb1f+Tg6LqpFgpL6dH9X43EXmjeQa\nx4eAt5NqdEcATwHrAN+uE5sNIE4a1h9dkd/fJeng3BxzBAuTxhU1rvmopPdLGgpMqij/ezf32UzS\nZZJ2kTQkj0j6DqmWAXB7RLxUGPNRkkbmfoOuL/VXgWl1zq8cWfUKMF/SlsDH65z/f4EnSM1mW+Wy\nX1Ucv47UxAVwjKQtJA2WtJakQ4GiGoKkj0s6hNTHcQPwu3xfKKvNWD/n5inrj75B+it8KHBmfnV5\nEvhWjWvms3iCuA24pJv7CPhQflV7DTiyMF5IzWaPVJWdERE1axoRMVfSNGAzYG+gKzk9QI1mpIh4\nTdJZwHG56EXg0orjz0k6htS8tC5pVFilVwp/jk2Ao+sc66h5K53KNQ3rdyLifmBz4LekJPE6qZP4\nHGCziKg1iucnwPGkv4rnk75Qd4+IN7u51T3AsaS/qJ/I95kLTAG2ioipSxH2QcBvSJ3Pz5K+vI/q\n9gr4GPBX4D+kTvHDWTjyq5bJQNfPc1FEzK88mPtn/ps0KutFUqJ4KH/mgYU/x+X5/IdJv8eXgLuA\nY6idrG2AUYSXe7WBSdKGpC9+SDO6T+ju/Cbc/zAW9jVsFRHVf903+n5jWdjctXVE3NjM+1lnck3D\nrJ+TtI2kf7Ow+e1vThjWLE4aZv3f24AxwBuk5qwDWhuODWRunjIzs2KuaZiZWbEBN+R22LBhMWrU\nqFaHYWbWr8yYMePpiFjiXJsBlzRGjRrF9OnTWx2GmVm/Iql6HlFNbp4yM7NifZo0JJ0t6SlJd1aU\nrSrpSkn35/ehuVySTs0LvNwu6X19GauZmS2ur2sa5wC7VpV9HZgaEWOAqXkf0qMbxuTXBBZOkjIz\nsxbp06QREdeRHqFQaU8WLiJzLrBXRfmvIrkJWEXSiL6J1MzMammHPo01ImIOQH5fPZevxaJrEMxm\nCWsfmJlZc7VD0qhHNcpqzkSUNEHSdEnT586d2+SwzMw6VzskjSe7mp3ye9eiMbNJC7t0WRt4vNYH\nRMTkiBgbEWOHD/cj/c3MmqUdksalwPi8PR74Q0X5gXkU1ZbAC13NWGZm1hp9OrlP0vmkdYyHSZpN\nWpj+BOBCSQcDs4D98umXAbsBM0krjn26L2M1M7PF9WnSiIh6S1WOq3FusOjC9QOKJtXqsrGeiol+\n8KZZX2iH5ikzM+snnDTMzKyYk4aZmRVz0jAzs2JOGmZmVsxJw8zMijlpmJlZMScNMzMr5qRhZmbF\nnDTMzKyYk4aZmRVz0jAzs2JOGmZmVsxJw8zMijlpmJlZMScNMzMr5qRhZmbFnDTMzKyYk4aZmRVz\n0jAzs2JOGmZmVsxJw8zMijlpmJlZMScNMzMr5qRhZmbFnDTMzKyYk4aZmRVz0jAzs2JOGmZmVsxJ\nw8zMijlpmJlZsR4nDUlDJf2XpOUaGZCZmbWvoqQhaZKkEyr2dwBmATOAByRt3KT4zMysjZTWNA4A\n7q3Y/xFwA7A1cB/wvQbHZWZmbag0aawJPAggaR1gE2BiRNwEnARs2dtAJH1Z0l2S7pR0vqTlJa0n\n6WZJ90v6naTBvb2PmZn1XGnSmAesnLd3AJ6LiFvy/gJgxd4EIWkt4EvA2Ih4N7AssD/wfeDkiBgD\nPAcc3Jv7mJlZ75Qmjb8BX5e0O3AU8IeKY+8EHm1ALIOAFSQNIiWhOaQEdXE+fi6wVwPuY2ZmPVSa\nNL4MvAJcADwPHFdx7EDgut4EERGPAT8kda7PAV4gdbI/HxGv59NmA2vVul7SBEnTJU2fO3dub0Ix\nM7NuDCo5KX+p71Dn8C7A/N4EIWkosCewHikpXQR8qFYodeKbDEwGGDt2bM1zzMys90qH3F4tacM6\nh98O/LWXcewIPBQRcyPiNWAK8H5gldxcBbA28Hgv72NmZr1Q2jy1PbBSnWMrAR/oZRyzgC0lrShJ\nwDjgbuAaYN98zngW7UsxM7M+tjQzwhdr9slDYHcAnuhNEBFxM6nD+5/AHTmuycDRwJGSZgKrAWf1\n5j5mZtY7dfs0JE0Evpl3A7gpVQJqOrG3gUTERGBiVfGDwOa9/WwzM2uM7jrCLwOeBgScSpoF/nDV\nOa8C90bE9U2JzszM2krdpBER04BpAJLmAX+OiKf7KjAzM2s/pUNuzwWQtBGwKbAOcHZEPCFpfeDJ\niJjXvDDNzKwdFCUNSW8FfkkayfRavu5yUgf4d0mjn45qUoxmZtYmSkdPnUyaNzEOGELq5+hyGbBr\ng+MyM7M2VFTTAPYBDo+IayQtW3XsEWDdxoZlZmbtqLSmsQLwTJ1jQ4A3GhOOmZm1s9KkMY30YMJa\n9gVubEw4ZmbWzkqbp74BXCXpKtLDBAPYTdKXSUmjt48RMTOzfqCophERN5A6wZcDfkrqCJ8EjAZ2\nzHM6zMxsgCutaRARfwe2lbQCMJS01sXLTYvMzMzaztI8sJD8BNphwCgWHXZrZmYdoDhpSPoc8Bhp\niO31wAa5fIqkI5oTnpmZtZPSRZi+CpwE/IL0KPTKWsa1wMcaHpmZmbWd0j6NzwPfjIgf1Jjcdx/w\nzsaGZWZm7ai0eertwIw6x94Elm9MOGZm1s5Kk8ZMYLs6xz5AWprVzMwGuNLmqR8DP5P0KmlZVoDV\nJR0MHAl8phnBmZlZeyldT+NMSUNJy79OysWXAS8Dx0fEeU2Kz8zM2sjSTO47UdLpwFakuRrPAv+I\niBeaFZyZmbWX0kWYlo+IBXl1viuaHJOZmbWp0prGC5JmkCb1XQfcGBHPNS8sMzNrR6VJ438D2wI7\nkjq+JeluUhK5HrghImY3J0QzM2sXpR3hlwCXAEgaAmxNGmo7DjiM9Kj04v4RMzPrn5bqi17SisDm\nwJb59W5gHl6EycysI5R2hJ9Iqlm8l7Ts6w3A70lNVbdFRDQtQjMzaxulNY2vAPOB04EzI+L25oVk\nZmbtqjRp7EqqaWwL3CzpZeDvpJFU1wEzIuKN5oRoZmbtorQj/Ary/AxJg0n9Gh8A9gS+D/wHWKlJ\nMZqZWZtY2o7w1YBtSDWOrj4OAR5ua2bWAUo7wn9OShIbkh6Ffitpfsb3gOsj4ummRWhmZm2jtKax\nETCFlChujIiXmheSmZm1q9Kk8UngiYh4tfqApEHAmhExq6GRmZlZ2yldhOkh4L/qHNskH+8VSatI\nuljSvZLukbSVpFUlXSnp/vw+tLf3MTOznitNGurm2PLAKw2I5RTg8ojYkJSI7gG+DkyNiDHA1Lxv\nZmYtUrd5StJ7WLR2sZukDatOWx74KPDv3gQhaSVSR/unAHIz2KuS9gS2z6edC1wLHN2be5mZWc91\n16exNzAxbwdp1b5aHgIO7WUco4G5wC8lbQLMAA4H1oiIOQARMUfS6rUuljQBmAAwcuTIXoZiZmb1\ndNc89V1gCGnSnoAd8n7la7mIeEdEXNXLOAYB7wN+HhHvJU0WLG6KiojJETE2IsYOHz68l6GYmVk9\ndWsaEfEa8FreLe376KnZwOyIuDnvX0xKGk9KGpFrGSOAp5och5mZdaPZyaBIRDwBPCppg1w0Drgb\nuBQYn8vGA39oQXhmZpa108JJXwR+m59t9SDwaVJSu1DSwcAsYL8Wxmdm1vHaJmlExK3A2BqHxvV1\nLGZmVlvd5ilJIyW9pS+DMTOz9tZdn8ZDpKfYIunqGnM0zMysw3SXNOYDK+bt7fF6GWZmHa+7Po1/\nAadIujLvf1HSnDrnRkR4praZ2QDXXdL4DHAiaXW+IHVI13vGVODHe5iZDXjdTe67F/gwgKQ3gb0i\n4pa+CszMzNpP6ZDb9YB6TVNmZtYhipJGRDwiaZCkj5HWCF8VeJa0kt+UiHi9iTGamVmbKF0jfHXg\nCuA9wMPAk8BWwOeB2yTtHBFzmxWkmZm1h9JnT50ErAZsERGjI2KriBgNbJHLT2pWgGZm1j5Kk8Zu\nwNERMa2yMO8fA+ze6MDMzKz9lCaN5YB5dY7NAwY3JhwzM2tnpUnjJuBoSW+tLMz7R+fjZmY2wJUO\nuf0KcA1pzYsrSB3hqwO7kFb1274p0ZmZWVspqmnkx5aPASYDw4GdSEnjdGBMRNzWtAjNzKxtFK+n\nERFPsxTrdpuZ2cDTFsu9mplZ/+CkYWZmxZw0zMysmJOGmZkVW2LSkLScpOMkbdIXAZmZWftaYtKI\niFeA44BVmh+OmZm1s9LmqZuBTZsZiJmZtb/SeRpfA86T9CpwGWlGeFSeEBEvNzg2MzNrM6VJ4+b8\nfipwSp1zlu19OGZm1s5Kk8ZBVNUszMys85Qu93pOk+MwM7N+oPjZUwCSNiJ1iK8DnB0RT0haH3gy\nIuqtt2FmZgNE6RrhbwPOBvYFXsvXXQ48AXwXmAUc1aQYzcysTSzNGuHvB8YBQ0hraHS5DNi1wXGZ\nmVkbKm2e2gc4PCKukVQ9SuoRYN3GhmVmZu2otKaxAvBMnWNDgDcaE46ZmbWz0qQxDTiwzrF9gRsb\nE46ZmbWz0qTxDWAfSVcBh5DmbOwm6dfAfsDERgQjaVlJ/5L0p7y/nqSbJd0v6XeSBjfiPmZm1jOl\na4TfQOoEXw74KakjfBIwGtgxIqY1KJ7DgXsq9r8PnBwRY4DngIMbdB8zM+uB4vU0IuLvEbEtsBKw\nNjAkIraOiL83IhBJawO7A2fmfQE7ABfnU84F9mrEvczMrGd6sgjTAtJcjfkNjuXHpAcjvpn3VwOe\nj4jX8/5sYK1aF0qaIGm6pOlz585tcFhmZtalOGlI2k3SjaSk8QSwQNKNknbvbRCS9gCeiogZlcU1\nTq35/KuImBwRYyNi7PDhw3sbjpmZ1VGUNCQdCvwReInU77Bffn8JuDQf742tgf+W9DBwAalZ6sfA\nKpK65pKsDTzey/uYmVkvlNY0jgUmR8TOEXF6REzJ7zsDvyCt7NdjEXFMRKwdEaOA/YGrI+IA4BrS\nkF6A8cAfenMfMzPrndKksRowpc6xS4BVGxPOYo4GjpQ0M8dwVpPuY2ZmBUofI3INsB1wZY1j2wHX\nNSqgiLgWuDZvPwhs3qjPNjOz3qmbNPJj0LucCpwpaTXg98BTwOrA3sCHSBP+zMxsgOuupnEni45W\nEnBofgWLjm66HC/3amY24HWXND7YZ1GYmVm/UDdpRMTf+jIQMzNrf0u13CtAnjex2IMDI+LlhkRk\nZmZtq3Ry38qSfiZpDmlG+LwaLzMzG+BKaxrnkIbW/gKYCbzarIDMzKx9lSaNccChEXF+M4MxM7P2\nVjojfBbgPgszsw5XmjS+BnxD0shmBmNmZu2tqHkqIi6TtCMwMz+J9vka5/hxH2ZmA1xR0pD0Q+AI\nYBruCDcz61ilHeGHAMdFxPeaGYyZmbW30j6Nl4EZSzzLzMwGtNKkcQowQVKtJVjNzKxDlDZPDQO2\nAO6TdC2Ld4RHRBzdyMDMzKz9lCaNfYHXgbcAO9U4HqRV9szMbAArHXK7XrMDMTOz9lfap2FmZlY8\nT+NzSzonIn7W+3DMzKydlfZp/LSbY11LwjppmJkNcEXNUxGxTPULWBX4OHAbsFEzgzQzs/aw1Cv3\ndYmI54HfSVoZOAPYvlFBmZlZe2pER/hDwNgGfI6ZmbW5XiUNSSOAr5ASh5mZDXClo6fmsrDDu8tg\nYAhpzfB9GhyXmZm1odI+jdNYPGksAGYDl0fEMw2NyszM2lLpjPDjmxyHmZn1A54RbmZmxerWNCRd\nvRSfExExrgHxmJlZG+uueaqkn2IE8H4W7+8wM7MBqG7SiIj96h2TNJL0KPQ9gKeBkxsfmpmZtZul\nmhEuaX3gGOATwFN5+4yImN+E2MzMrM0UdYRL2ljSecA9wAeBw4F3RMSPG5EwJK0j6RpJ90i6S9Lh\nuXxVSVdKuj+/D+3tvczMrOe6TRqSNpU0BbgdeC9wCDAmIk6PiFcbGMfrwFci4l3AlsDnJW0EfB2Y\nGhFjgKl538zMWqRu0pD0F+AWYD1g/4h4V0ScGxFvNDqIiJgTEf/M2/NINZq1gD2Bc/Np5wJ7Nfre\nZmZWrrs+jV3y+zrAaZJO6+6DImL1RgQkaRSpVnMzsEZEzMmfP0dSQ+5hZmY9013SmNRnUWSS3gZc\nAhwRES9KKr1uAjABYOTIkc0L0Mysw3U35LZPk4akt5ASxm8jYkouflLSiFzLGEEasbWYiJgMTAYY\nO3as54yYmTVJWzxGRKlKcRZwT0ScVHHoUmB83h4P/KGvYzMzs4V6vHJfg20NfBK4Q9KtuexY4ATg\nQkkHA7OAuhMOzcys+doiaUTEDUC9Dgw/08rMrE20RfOUmZn1D04aZmZWzEnDzMyKOWmYmVkxJw0z\nMyvmpGFmZsWcNMzMrJiThpmZFXPSMDOzYk4aZmZWzEnDzMyKOWmYmVkxJw0zMyvmpGFmZsWcNMzM\nrJiThpmZFXPSMDOzYk4aZmZWzEnDzMyKOWmYmVkxJw0zMyvmpGFmZsWcNMzMrJiThpmZFXPSMDOz\nYk4aZmZWzEnDzMyKOWmYmVkxJw0zMyvmpGFmZsWcNMzMrJiThpmZFXPSMDOzYk4aZmZWrO2ThqRd\nJd0naaakr7c6HjOzTjao1QF0R9KywGnATsBsYJqkSyPi7tZGZjZwaZJaHcKAEhOj1SE0VLvXNDYH\nZkbEgxHxKnABsGeLYzIz61htXdMA1gIerdifDWxRfZKkCcCEvPuSpPv6ILZOMQx4utVBLImO91/H\nHcj/Nhtr3ZKT2j1p1PptL1bXi4jJwOTmh9N5JE2PiLGtjsOsmv9ttka7N0/NBtap2F8beLxFsZiZ\ndbx2TxrTgDGS1pM0GNgfuLTFMZmZday2bp6KiNclfQH4K7AscHZE3NXisDqNm/2sXfnfZgsoYmAN\nBzMzs+Zp9+YpMzNrI04aZmZWzEnDzMyKOWmYmVkxJw0zMyvmpGE1SfqQpP8jabKkkbnsA5LWbHVs\nZtY6HnJri5C0BmkC5abAw8B6wGYR8U9JvwQWRMRnWxiidRBJnwMuioi5ebs7ERE/74u4OpmThi1C\n0oXAxqSnCT8MvAqMzUnjAGBiRLyzhSFaB5H0JrBlRNySt7sTEbFsX8TVydp6Rri1xK7A+IiYmdcz\nqTSb9ORhsz4REcvU2rbW8X8Eq+WNOuXDgPl9GYiZtRcnDat2PfDFqlpGVxvmQcDVfR+SGUjaVtKe\nFfvDJJ0n6VZJP5L0llbG1ymcNKza0cBmwJ3At0gJ4zOSrgO2Ar7Rwtiss/0AeHfF/inAOOAm4FPA\npBbE1HGcNGwREXEnaeTUdNL/iG8A+5BWUNwiIv7duuisw20AzACQtCKwN3B4RBwGfA34WAtj6xju\nCLfFRMQDwCdbHYdZlcHAgry9Nen76895/9/AiFYE1Wlc0zCz/uJe0ug+gAOAf0TEvLy/JvBsS6Lq\nMK5p2GIk7UtqklobWL76eERs3udBmcH/ABdJOhhYmTSXqMuuwL9aElWHcdKwRUg6HvgmcBtwN2ly\nn1nLRcSlkt4FvBe4o6p/7R/A7a2JrLN4RrgtQtKjwK8j4thWx2Jm7cd9GlZtCDC11UGYVZP0kdw0\n1bW/nqQbJT0v6RJJq7Qyvk7hpGHVLmBhZ6NZO/kGsFLF/k9ITyk4AXgf8J1WBNVp3Kdh1aYC35c0\nDLgSeL76hIi4rM+jMoPRwB0AklYGdgb2jog/S5pFSh6fb2F8HcFJw6r9Lr+PAsbXOB6AnyRqrdLV\nCbsdaeLpVXl/NjC8JRF1GCcNq7ZeqwMwq+M24ABJNwGHANdExCv52EjgqZZF1kE8esrM+gVJ2wB/\nJPVrvATsHBE352MXA29GxEdbGGJHcNKwxUgaBHwE2AZYlTTT9npgSkS83srYrLNJGgK8E3ggIp6v\nKN8NmOlnozWfk4YtQtLqwBXAe0gr9z0JrEHq47iN9Nfd3FbFZwYgSaRnTT3lP2T6lofcWrWTgNVI\nT7QdHRFbRcRoYItcflJLo7OOJmk3STeTHlw4i/THDZImS/pES4PrEE4aVm034OiImFZZmPePAXZv\nSVTW8SQdCFxKenDhBBb9/rofOLjWddZYThpWbTlgXp1j80iPpzZrheOAEyNiPPCbqmN3ARv1fUid\nx0nDqt0EHC3prZWFef/ofNysFdYlTTitZQGLzha3JvE8Dav2FeAa4FFJV5A6wlcHdgEEbN+60KzD\nPUp6wm2tderHAjP7NpzO5JqGLSIibiUNaZxMmmG7EylpnA6MiYjbWhiedbazgIm5w3uFXCZJ40jL\nvf6iZZF1EA+5NbN+IQ+z/SlwGOkRIoOA10iPtTkjIvzcqT7gpGFIqlXdryciYlzTgjFbAknvAMaR\nnnD7LHC1J/X1HfdpGMAzBeeMAN7PwgfGmbXKIFL/xey8v76k9cFPYO4LThpGROxX75ikkaRRU3sA\nTwMn91VcZpUk/S/gfOBdpEEZ1fwE5j7gpGE15b/cjgE+QXp66DGkduP5LQ3MOtnZpD6MPUg1Da9f\n3wLu07BFSNqYNIlqP9IQxx8AZ0eE/we1lpL0EvCRiPhrq2PpZB5yawBI2lTSFOB20lj4Q0hDbE93\nwrA2cQtp3QxrITdPGZL+Qlo683Zg/4i4qMUhmdUyAThf0sukCai1liJ+uc+j6jBunjIkvZk3nwXe\n7O5cgIhYvbkRmS1O0iqkCXz71DsnItwR3mSuaRjApFYHYFbgN8BWwA9xR3jLuKZhZv2CpP8An4mI\n81odSydzR7iZ9RcPA+6zaDEnDTPrL74KHCdpVIvj6GhunjKzfkHSNNKQ26GkWket0VOb93FYHccd\n4WbWX9yZX9ZCrmmYmVkx92mYmVkxJw0zMyvmpGEGSDpeUlS8Hpd0SV7wB0nnSJre6jjNWs0d4WYL\nvQDsmrdHA98CpuYn/5oZThpmlV6PiJvy9k2SZgHXA7u1MKaaJK3gtU2sFdw8ZVbfjPw+qvqApBGS\nzpb0oKT5kv4t6duSBlecM03SL2tce66kf1bsryrpDElPSlog6UZJW1RdE5KOlPRjSXOBO3L5NpKu\nl/Rift0qqe5KjGa95aRhVt+o/P5EjWPDSE8FPpLUpHUi8GngJxXnnAnsJ+ltXQV5+yPAL/P+csBV\nwE6kGc97AXOBqyS9veqeXyWt1f5J4EuSVgL+BDyYP3Nf4NfAKj36ac0KeJ6GGakjHPgC0PVFPRo4\nA9gU2AD4HvDuiBhb5/pBwEdJS5KuFBGv5i/1OcAXIqIrSRwE/BxYMyKekXRw3t84Iu6v+Kz7gCkR\n8dVcFsCtEfHeinuOBabl+81r2C/DrBuuaZgttBppDerXSF/ao4GPRcSc6hOVHCHpbknz8zW/BZYj\nry4XES8CFwOfqrj0U8ClEfFM3t+R1Az2kKRBOWEA/A2oTlB/rtp/AHgJOE/Snnm9CbOmcke42UIv\nkL7Eg9Qk9XjUr4ofQVrX4QTSF/xzwGbAacDyFeedBVzbNXQX2JZFO9aHAVuSkk61B6r2n6zciYjn\nJO0MTAQuBJaRdAXwxYh4sJuf06zHnDTMFno9IkrnYuwHXBQRx3UVSNqo+qSIuE7S/cB4QMDjwBUV\npzwLTAc+W+Mer1R/XI3P/wewq6QVSAnvJOA8UiIyazgnDbOeWYHFv9QPqHPu2cDn8vavIuKNimNT\nSeuzz4qIp3oaTB5++0dJ7waO6ennmC2Jk4ZZz1xJGsF0M6kZ6QBg/Trnngt8m/T/2zlVx34FHEZq\nwvohaSTUasDmwBMRcXK9ACRhLEHOAAAAuElEQVTtDhwE/B6YBawFHApc3bMfyWzJnDTMeuZ/gOGk\nZAAwBfgS8MfqEyPiiZxciIj7qo4tkPTB/HmTgDWAp4BbgEuXEMNMUpPVd4HVSUN1/wQc27MfyWzJ\nPOTWrMkkrQo8Rhp6e1ar4zHrDdc0zJpE0hBgI+BwYB5wfmsjMus9Jw2z5tkUuAZ4BDgwIl5ucTxm\nvebmKTMzK+YZ4WZmVsxJw8zMijlpmJlZMScNMzMr5qRhZmbF/h+AFZ1xFtsl4wAAAABJRU5ErkJg\ngg==\n",
      "text/plain": [
       "<matplotlib.figure.Figure at 0xb4b1390>"
      ]
     },
     "metadata": {},
     "output_type": "display_data"
    }
   ],
   "source": [
    "tweets_by_player = tweets['player'].value_counts()\n",
    "\n",
    "fig, ax = plt.subplots()\n",
    "ax.tick_params(axis='x', labelsize=15)\n",
    "ax.tick_params(axis='y', labelsize=10)\n",
    "ax.set_xlabel('Players', fontsize=15)\n",
    "ax.set_ylabel('Number of tweets' , fontsize=15)\n",
    "ax.set_title('Top 5 players', fontsize=15, fontweight='bold')\n",
    "tweets_by_player[:6].plot(ax=ax, kind='bar', color='green')"
   ]
  }
 ],
 "metadata": {
  "kernelspec": {
   "display_name": "Python 3",
   "language": "python",
   "name": "python3"
  },
  "language_info": {
   "codemirror_mode": {
    "name": "ipython",
    "version": 3
   },
   "file_extension": ".py",
   "mimetype": "text/x-python",
   "name": "python",
   "nbconvert_exporter": "python",
   "pygments_lexer": "ipython3",
   "version": "3.6.2"
  }
 },
 "nbformat": 4,
 "nbformat_minor": 2
}
